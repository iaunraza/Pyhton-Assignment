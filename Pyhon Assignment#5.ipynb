{
 "cells": [
  {
   "cell_type": "code",
   "execution_count": 3,
   "metadata": {},
   "outputs": [
    {
     "name": "stdout",
     "output_type": "stream",
     "text": [
      "Enter the number: 3\n",
      "6\n"
     ]
    }
   ],
   "source": [
    "# Question:1\n",
    "def fact(a):\n",
    "    if a<=1:\n",
    "        return a\n",
    "    else:\n",
    "        return a*fact(a-1)\n",
    "\n",
    "i=int(input(\"Enter the number: \"))\n",
    "print(fact(i))\n"
   ]
  },
  {
   "cell_type": "code",
   "execution_count": 21,
   "metadata": {},
   "outputs": [
    {
     "name": "stdout",
     "output_type": "stream",
     "text": [
      "Enter the String:AKAKAKkakaka\n",
      "Lower case characters = 6\n",
      " Upper case characters = 6\n"
     ]
    }
   ],
   "source": [
    "# Question:2\n",
    "def upperlower(string): \n",
    "  \n",
    "    upper = 0\n",
    "    lower = 0\n",
    "  \n",
    "    for i in range(len(string)): \n",
    "          \n",
    "        # For lower letters \n",
    "        if (ord(string[i]) >= 97 and\n",
    "            ord(string[i]) <= 122): \n",
    "            lower += 1\n",
    "  \n",
    "        # For upper letters \n",
    "        elif (ord(string[i]) >= 65 and\n",
    "              ord(string[i]) <= 90): \n",
    "            upper += 1\n",
    "  \n",
    "    print('Lower case characters = %s\\n' %lower, 'Upper case characters = %s' %upper) \n",
    "  \n",
    "\n",
    "b=input(\"Enter the String:\")\n",
    "upperlower(b) "
   ]
  },
  {
   "cell_type": "code",
   "execution_count": 26,
   "metadata": {},
   "outputs": [
    {
     "name": "stdout",
     "output_type": "stream",
     "text": [
      "Even numbers are: 4 6 8 "
     ]
    }
   ],
   "source": [
    "# Question:3\n",
    "def evennum(a):\n",
    "    for i in range(len(a)):\n",
    "        if a[i]%2==0:\n",
    "            print(str(a[i]), end=\" \")\n",
    "\n",
    "print(\"Even numbers are:\", end=\" \")\n",
    "a=[4,5,6,7,8,9]\n",
    "evennum(a)\n",
    "            \n",
    "            \n",
    "            "
   ]
  },
  {
   "cell_type": "code",
   "execution_count": 35,
   "metadata": {},
   "outputs": [
    {
     "name": "stdout",
     "output_type": "stream",
     "text": [
      "Is palindrome  baaa  ?\n",
      "No\n"
     ]
    }
   ],
   "source": [
    "# Question:4\n",
    "\n",
    "# function which return reverse of a string \n",
    "def reverse(s): \n",
    "    return s[::-1] \n",
    "  \n",
    "def isPalindrome(s): \n",
    "    # Calling reverse function \n",
    "    rev = reverse(s) \n",
    "    # Checking if both string are equal or not \n",
    "    if (s == rev): \n",
    "        return True\n",
    "    return False\n",
    "  \n",
    "  \n",
    "# Driver code \n",
    "s = \"baaa\"\n",
    "ans = isPalindrome(s) \n",
    "print(\"Is palindrome ?\")\n",
    "if ans == 1: \n",
    "    print(\"Yes\") \n",
    "else: \n",
    "    print(\"No\") \n"
   ]
  },
  {
   "cell_type": "code",
   "execution_count": 40,
   "metadata": {},
   "outputs": [
    {
     "name": "stdout",
     "output_type": "stream",
     "text": [
      "Enter the number:7\n",
      "7  is a prime number.\n"
     ]
    }
   ],
   "source": [
    "# Question:5\n",
    "\n",
    "def prime(a):\n",
    "    num=a//2\n",
    "    for i in range(num):\n",
    "        if a%num==0:\n",
    "            b=\"true\"\n",
    "        else:\n",
    "            b=\"false\"\n",
    "    \n",
    "    return b\n",
    "\n",
    "a=int(input(\"Enter the number:\"))\n",
    "c=prime(a)\n",
    "if c==\"false\":\n",
    "    print(str(a), \" is a prime number.\")\n",
    "else:\n",
    "    print(str(a), \" is not a prime number.\")\n",
    "    \n"
   ]
  },
  {
   "cell_type": "code",
   "execution_count": 43,
   "metadata": {},
   "outputs": [
    {
     "name": "stdout",
     "output_type": "stream",
     "text": [
      "shopping list\n",
      "aaaaaaaa\n",
      "bbbbbbbbbbbbbb\n",
      "ccccccccccccc\n"
     ]
    }
   ],
   "source": [
    "# Question:6\n",
    "def list(*a):\n",
    "    for b in a:\n",
    "        print(b)\n",
    "print(\"shopping list:\")\n",
    "list(\"aaaaaaaa\", \"bbbbbbbbbbbbbb\", \"ccccccccccccc\")"
   ]
  },
  {
   "cell_type": "code",
   "execution_count": null,
   "metadata": {},
   "outputs": [],
   "source": []
  }
 ],
 "metadata": {
  "kernelspec": {
   "display_name": "Python 3",
   "language": "python",
   "name": "python3"
  },
  "language_info": {
   "codemirror_mode": {
    "name": "ipython",
    "version": 3
   },
   "file_extension": ".py",
   "mimetype": "text/x-python",
   "name": "python",
   "nbconvert_exporter": "python",
   "pygments_lexer": "ipython3",
   "version": "3.7.4"
  }
 },
 "nbformat": 4,
 "nbformat_minor": 2
}
