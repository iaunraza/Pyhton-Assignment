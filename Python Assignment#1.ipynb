{
 "cells": [
  {
   "cell_type": "code",
   "execution_count": 1,
   "metadata": {},
   "outputs": [
    {
     "name": "stdout",
     "output_type": "stream",
     "text": [
      "Twinkle, twinkle, little star,\n",
      "      How I wonder what you are!\n",
      "        Up above the world so high,\n",
      "        Like a diamond in the sky.\n",
      "Twinkle, twinkle, little star,\n",
      "      How I wonder what you are\n"
     ]
    }
   ],
   "source": [
    "a=\"Twinkle, twinkle, little star,\\n\"\n",
    "b=\"      How I wonder what you are!\\n\"\n",
    "c=\"        Up above the world so high,\\n\"\n",
    "d=\"        Like a diamond in the sky.\\n\"\n",
    "e=\"Twinkle, twinkle, little star,\\n\"\n",
    "f=\"      How I wonder what you are\"\n",
    "print (a+b+c+d+e+f)"
   ]
  },
  {
   "cell_type": "code",
   "execution_count": 2,
   "metadata": {},
   "outputs": [
    {
     "name": "stdout",
     "output_type": "stream",
     "text": [
      "3.7.4\n"
     ]
    }
   ],
   "source": [
    "import platform\n",
    "print(platform.python_version())\n"
   ]
  },
  {
   "cell_type": "code",
   "execution_count": 4,
   "metadata": {},
   "outputs": [
    {
     "name": "stdout",
     "output_type": "stream",
     "text": [
      "Date: 2019-11-05\n"
     ]
    }
   ],
   "source": [
    "from datetime import date\n",
    "today=date.today()\n",
    "print(\"Date:\", today)\n"
   ]
  },
  {
   "cell_type": "code",
   "execution_count": 7,
   "metadata": {},
   "outputs": [
    {
     "name": "stdout",
     "output_type": "stream",
     "text": [
      "Enter Your First Name:Aun\n",
      "Enter Your Last Name:Raza\n",
      "Raza Aun\n"
     ]
    }
   ],
   "source": [
    "a= input(\"Enter Your First Name:\")\n",
    "b= input(\"Enter Your Last Name:\")\n",
    "c=(b+\" \"+a)\n",
    "print (c)"
   ]
  },
  {
   "cell_type": "code",
   "execution_count": 8,
   "metadata": {},
   "outputs": [
    {
     "name": "stdout",
     "output_type": "stream",
     "text": [
      "Enter Radius of the Circle:3\n",
      "28.26\n"
     ]
    }
   ],
   "source": [
    "a=   int (input(\"Enter Radius of the Circle:\"))\n",
    "b=(3.14*a**2)\n",
    "print (b)"
   ]
  },
  {
   "cell_type": "code",
   "execution_count": 11,
   "metadata": {},
   "outputs": [
    {
     "name": "stdout",
     "output_type": "stream",
     "text": [
      "Enter First Number For Addition:10\n",
      "Enter Second Number For Addition20\n",
      "('Result', 30)\n"
     ]
    }
   ],
   "source": [
    "a=int (input(\"Enter First Number For Addition:\"))\n",
    "b=int (input(\"Enter Second Number For Addition\"))\n",
    "c=(\"Result\",(a+b))\n",
    "d= print (c)"
   ]
  },
  {
   "cell_type": "code",
   "execution_count": null,
   "metadata": {},
   "outputs": [],
   "source": []
  }
 ],
 "metadata": {
  "kernelspec": {
   "display_name": "Python 3",
   "language": "python",
   "name": "python3"
  },
  "language_info": {
   "codemirror_mode": {
    "name": "ipython",
    "version": 3
   },
   "file_extension": ".py",
   "mimetype": "text/x-python",
   "name": "python",
   "nbconvert_exporter": "python",
   "pygments_lexer": "ipython3",
   "version": "3.7.4"
  }
 },
 "nbformat": 4,
 "nbformat_minor": 2
}
