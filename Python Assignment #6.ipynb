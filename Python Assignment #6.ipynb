{
 "cells": [
  {
   "cell_type": "markdown",
   "metadata": {},
   "source": [
    "Answer1:\n",
    "Object-oriented programming (OOP) is a software programming model constructed around objects. This model compartmentalizes data into objects (data fields) and describes object contents and behavior through the declaration of classes (methods).\n",
    "\n",
    "Answer 2:\n",
    "It provides a clear modular structure for programs which makes it good for defining abstract datatypes in which implementation details are hidden.\n",
    "Objects can also be reused within an across applications.\n",
    "It makes software easier to maintain. \n",
    "Reuse also enables faster development.\n",
    "\n",
    "Answer 3:\n",
    "Function:\n",
    "\n",
    "A function is a piece of code that is called by name. It can be passed data to operate on (i.e. the parameters) and can optionally return data (the return value). All data that is passed to a function is explicitly passed. \n",
    "\n",
    "Method:\n",
    "A method is a piece of code that is called by a name that is associated with an object.\n",
    "\n",
    "\n",
    "Answer 4:\n",
    "Class:\n",
    "In object-oriented programming, a class is a blueprint for creating objects (a particular data structure), providing initial values for state (member variables or attributes), and implementations of behavior (member functions or methods).\n",
    "\n",
    "Object:\n",
    "An object is a component of a program that knows how to perform certain actions and how to interact with other elements of the program.\n",
    "\n",
    "Attribute:\n",
    "Attributes are data stored inside a class or instance and represent the state or quality of the class or instance. In short, attributes store information about the instance.\n",
    "\n",
    "Behaviour:\n",
    "behavior determines how an instance of that class operates; for example, how it will \"react\" if asked to do something by another class or object or if its internal state changes. Behavior is the only way objects can do anything to themselves or have anything done to them.\n",
    " \n"
   ]
  },
  {
   "cell_type": "code",
   "execution_count": 10,
   "metadata": {},
   "outputs": [],
   "source": [
    "class Car:\n",
    "    def __init__(self,model, color, name, registration, Engine, make):\n",
    "        self.model = model\n",
    "        self.color = color\n",
    "        self.registration = registration\n",
    "        self.Engine=Engine\n",
    "        self.make=make\n",
    "        \n",
    "    def accelerate(self):\n",
    "        self.__speed +=5\n",
    "\n",
    "    def brake(self):\n",
    "        self.__speed -=5\n",
    "\n",
    "    def get_speed(self):\n",
    "        return self.__speed\n",
    "    \n",
    "buyer = Car('2006','Grey','Cultus','oppo','EFI Engine','Suzuki')\n",
    "oppo = Car('2008','White','Cultus','oppo','EFI Engine','Suzuki')\n",
    "Samsung = Car('2006','Grey','Cultus','oppo','EFI Engine','Suzuki')\n",
    "Nokia = Car('2006','Grey','Cultus','oppo','EFI Engine','Suzuki')\n",
    "HTC = Car('2006','Grey','Cultus','oppo','EFI Engine','Suzuki')\n",
    "\n"
   ]
  },
  {
   "cell_type": "code",
   "execution_count": null,
   "metadata": {},
   "outputs": [],
   "source": []
  }
 ],
 "metadata": {
  "kernelspec": {
   "display_name": "Python 3",
   "language": "python",
   "name": "python3"
  },
  "language_info": {
   "codemirror_mode": {
    "name": "ipython",
    "version": 3
   },
   "file_extension": ".py",
   "mimetype": "text/x-python",
   "name": "python",
   "nbconvert_exporter": "python",
   "pygments_lexer": "ipython3",
   "version": "3.7.4"
  }
 },
 "nbformat": 4,
 "nbformat_minor": 2
}
