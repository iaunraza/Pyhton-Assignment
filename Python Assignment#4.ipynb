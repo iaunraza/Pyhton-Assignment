{
 "cells": [
  {
   "cell_type": "code",
   "execution_count": 16,
   "metadata": {},
   "outputs": [
    {
     "name": "stdout",
     "output_type": "stream",
     "text": [
      "Initial dictionary {'first_name': 'ibrahim', 'last_name': 'iqbal', 'age': 20, 'city': 'karachi'}\n",
      "Updated Dictionary {'first_name': 'ibrahim', 'last_name': 'iqbal', 'age': 20, 'city': 'karachi', 'qualification': 'intermediate'}\n"
     ]
    }
   ],
   "source": [
    "# Question1\n",
    "dict={'first_name':\"ibrahim\",'last_name':\"iqbal\",'age':20, 'city':\"karachi\"}\n",
    "print(\"Initial dictionary\",dict)\n",
    "dict.update(qualification=\"intermediate\") \n",
    "print(\"Updated Dictionary\",dict)\n"
   ]
  },
  {
   "cell_type": "code",
   "execution_count": 21,
   "metadata": {},
   "outputs": [
    {
     "name": "stdout",
     "output_type": "stream",
     "text": [
      "{'Country': 'Pakistan', 'Population': '5000000000', 'fact': 'ckckckckc'}\n",
      "{'Country': 'Pakistan', 'Population': 10000000000, 'fact': 'kmckcmk'}\n",
      "{'Country': 'Pakistan', 'Population': '25000000000000', 'fact': 'cnncncnc'}\n"
     ]
    }
   ],
   "source": [
    "# Question2\n",
    "Dict = {'Lahore':{'Country' : 'Pakistan', 'Population' : 10000000000, 'fact' : 'kmckcmk'},\n",
    "        'Islamabad':{'Country' : 'Pakistan', 'Population' : '25000000000000', 'fact' : 'cnncncnc'},\n",
    "        'Karachi':{'Country' : 'Pakistan', 'Population' : '5000000000', 'fact' : 'ckckckckc'}} \n",
    "print(Dict['Karachi'])\n",
    "print(Dict['Lahore'])\n",
    "print(Dict['Islamabad'])\n"
   ]
  },
  {
   "cell_type": "code",
   "execution_count": 3,
   "metadata": {},
   "outputs": [
    {
     "name": "stdout",
     "output_type": "stream",
     "text": [
      "Enter age:5\n",
      "Ticket price is 10$\n"
     ]
    }
   ],
   "source": [
    "# Question3\n",
    "age=int(input(\"Enter age:\"))\n",
    "if age<=3:\n",
    "    print(\"Free ticket\")\n",
    "elif age>3 and age<12:\n",
    "    print(\"Ticket price is 10$\")\n",
    "else:\n",
    "    print(\"Ticket price is 15$\")\n",
    "\n",
    "    "
   ]
  },
  {
   "cell_type": "code",
   "execution_count": 2,
   "metadata": {},
   "outputs": [
    {
     "name": "stdout",
     "output_type": "stream",
     "text": [
      "Enter your favourite book :aaaaaaaa\n",
      "One of my favorite books is  aaaaaaaa\n"
     ]
    }
   ],
   "source": [
    "# Question4\n",
    "def favbook( str=fav ):\n",
    "    print (\"One of my favorite books is \",str)\n",
    "    return\n",
    "fav=input(\"Enter your favourite book :\")\n",
    "favbook( fav )\n"
   ]
  },
  {
   "cell_type": "code",
   "execution_count": 10,
   "metadata": {},
   "outputs": [
    {
     "name": "stdout",
     "output_type": "stream",
     "text": [
      "14\n",
      "Enter number between 1 to 30? 3\n",
      "You entered a smaller number.\n",
      "Enter number between 1 to 30? 3\n",
      "You entered a smaller number.\n",
      "Enter number between 1 to 30? 3\n",
      "You entered a smaller number.\n",
      "\n",
      "You lost! try again later\n"
     ]
    }
   ],
   "source": [
    "# Question5\n",
    "import random\n",
    "a=random.randrange(1, 30, 1)\n",
    "b=\"false\"\n",
    "for i in range(1,4):\n",
    "    num=int(input(\"Enter number between 1 to 30? \"))\n",
    "    if a==num:\n",
    "        print()\n",
    "        print(\"Congrats! You guess the correct number.\")\n",
    "        b=\"true\"\n",
    "        break\n",
    "    elif num>a:\n",
    "        print(\"You entered a greater number.\")\n",
    "    elif num<a:\n",
    "        print(\"You entered a smaller number.\")\n",
    "if b!=\"true\":\n",
    "    print()\n",
    "    print(\"You lost! try again later\")\n",
    "\n"
   ]
  },
  {
   "cell_type": "code",
   "execution_count": null,
   "metadata": {},
   "outputs": [],
   "source": []
  },
  {
   "cell_type": "code",
   "execution_count": null,
   "metadata": {},
   "outputs": [],
   "source": []
  }
 ],
 "metadata": {
  "kernelspec": {
   "display_name": "Python 3",
   "language": "python",
   "name": "python3"
  },
  "language_info": {
   "codemirror_mode": {
    "name": "ipython",
    "version": 3
   },
   "file_extension": ".py",
   "mimetype": "text/x-python",
   "name": "python",
   "nbconvert_exporter": "python",
   "pygments_lexer": "ipython3",
   "version": "3.7.4"
  }
 },
 "nbformat": 4,
 "nbformat_minor": 2
}
