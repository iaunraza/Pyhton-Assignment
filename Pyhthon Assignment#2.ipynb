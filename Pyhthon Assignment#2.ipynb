{
 "cells": [
  {
   "cell_type": "code",
   "execution_count": 1,
   "metadata": {},
   "outputs": [
    {
     "name": "stdin",
     "output_type": "stream",
     "text": [
      "Enter Maths Marks: 70\n",
      "Enter Science Marks: 83\n",
      "Enter English Marks: 68\n",
      "Enter Urdu  Marks: 89\n",
      "Enter Islamiyat Marks: 91\n"
     ]
    },
    {
     "name": "stdout",
     "output_type": "stream",
     "text": [
      "Your Percentage: 80.2 A-1 Grade\n"
     ]
    }
   ],
   "source": [
    "a=int(input(\"Enter Maths Marks:\"))\n",
    "b=int(input(\"Enter Science Marks:\"))\n",
    "c=int(input(\"Enter English Marks:\"))\n",
    "d=int(input(\"Enter Urdu  Marks:\"))\n",
    "e=int(input(\"Enter Islamiyat Marks:\"))\n",
    "if a >100 or b >100 or c>100 or d>100 or e>100:\n",
    "    print(\"Invalid Marks\")\n",
    "else :\n",
    "    per=(a+b+c+d+e)/500 *100\n",
    "    \n",
    "if per>=80 and per<=100:\n",
    "    print(\"Your Percentage:\",per,\"A-1 Grade\")\n",
    "elif per>=70 and per<80:\n",
    "    print(\"Your Percentage:\",per,\"A-Grade\")\n",
    "elif per>=60 and per<70:\n",
    "    print(\"Your Percentage:\",per,\"B-Grade\")    \n",
    "elif per>=50 and per<60:\n",
    "    print(\"Your Percentage:\",per,\"C-Grade\")   \n",
    "elif per>=40 and per<50:\n",
    "    print(\"Your Percentage:\",per,\"D-Grade\")    \n",
    "elif per>=33 and per<40:\n",
    "    print(\"Your Percentage:\",per,\"E-Grade\")      \n",
    "else:\n",
    "    print(\"Your Percenatge:\",per,\"F-Grade\")"
   ]
  },
  {
   "cell_type": "code",
   "execution_count": 2,
   "metadata": {},
   "outputs": [
    {
     "name": "stdin",
     "output_type": "stream",
     "text": [
      "Enter Any Number: 40\n"
     ]
    },
    {
     "name": "stdout",
     "output_type": "stream",
     "text": [
      "Entered Number is: Even\n"
     ]
    }
   ],
   "source": [
    "a=int(input(\"Enter Any Number:\"))\n",
    "b=(a % 2)\n",
    "if b==0 :\n",
    "      print (\"Entered Number is: Even\")\n",
    "else:\n",
    "      print(\"Enterned Number is: Odd\")\n"
   ]
  },
  {
   "cell_type": "code",
   "execution_count": 3,
   "metadata": {},
   "outputs": [
    {
     "name": "stdout",
     "output_type": "stream",
     "text": [
      "6\n"
     ]
    }
   ],
   "source": [
    "arr=[\"Aun\",\"Haris\",\"Basil\",\"Kisa\",\"Marium\",\"Rubab\"]\n",
    "print(len(arr))"
   ]
  },
  {
   "cell_type": "code",
   "execution_count": 4,
   "metadata": {},
   "outputs": [
    {
     "name": "stdout",
     "output_type": "stream",
     "text": [
      "Sum of List is: 100\n"
     ]
    }
   ],
   "source": [
    "arr=[10,20,30,40]\n",
    "add=sum(arr)\n",
    "print(\"Sum of List is:\",add)\n"
   ]
  },
  {
   "cell_type": "code",
   "execution_count": 5,
   "metadata": {},
   "outputs": [
    {
     "name": "stdout",
     "output_type": "stream",
     "text": [
      "[29, 97, 100, 108]\n",
      "Largest Numeber is : 108\n"
     ]
    }
   ],
   "source": [
    "arr=[100,29,108,97]\n",
    "arr.sort()\n",
    "print (arr)\n",
    "print(\"Largest Numeber is :\",arr[3])\n"
   ]
  },
  {
   "cell_type": "code",
   "execution_count": 6,
   "metadata": {},
   "outputs": [
    {
     "name": "stdout",
     "output_type": "stream",
     "text": [
      "[1, 1, 2, 3]\n"
     ]
    }
   ],
   "source": [
    "a = [1, 1, 2, 3, 5, 8, 13, 21, 34, 55, 89]\n",
    "\n",
    "print ([ x for x in a if x < 5 ])"
   ]
  },
  {
   "cell_type": "code",
   "execution_count": null,
   "metadata": {},
   "outputs": [],
   "source": []
  }
 ],
 "metadata": {
  "kernelspec": {
   "display_name": "Python 3",
   "language": "python",
   "name": "python3"
  },
  "language_info": {
   "codemirror_mode": {
    "name": "ipython",
    "version": 3
   },
   "file_extension": ".py",
   "mimetype": "text/x-python",
   "name": "python",
   "nbconvert_exporter": "python",
   "pygments_lexer": "ipython3",
   "version": "3.7.4"
  }
 },
 "nbformat": 4,
 "nbformat_minor": 4
}
