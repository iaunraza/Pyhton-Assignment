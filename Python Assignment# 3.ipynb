{
 "cells": [
  {
   "cell_type": "code",
   "execution_count": 8,
   "metadata": {},
   "outputs": [
    {
     "name": "stdout",
     "output_type": "stream",
     "text": [
      "Enter 1st Number2\n",
      "Enter 2nd Number5\n",
      "Enter Operator**\n",
      "32\n"
     ]
    }
   ],
   "source": [
    "a= int(input(\"Enter 1st Number\"))\n",
    "b= int(input(\"Enter 2nd Number\"))\n",
    "c=input('Enter Operator')\n",
    "if c=='+' :\n",
    "    Result= a+b\n",
    "    print (Result)\n",
    "elif c=='-' :\n",
    "    Result=a-b\n",
    "    print (Result)\n",
    "elif c=='*' :\n",
    "    Result=a*b\n",
    "    print (Result)   \n",
    "elif c=='/' :\n",
    "    Result=a/b\n",
    "    print (Result)     \n",
    "elif c=='**' :\n",
    "    Result=a**b\n",
    "    print (Result)\n",
    "else :\n",
    "    print(\"Enter Correct Operator\")\n"
   ]
  },
  {
   "cell_type": "code",
   "execution_count": 17,
   "metadata": {},
   "outputs": [
    {
     "name": "stdout",
     "output_type": "stream",
     "text": [
      "List don't contain any numeric value try adding numeric value in List\n"
     ]
    }
   ],
   "source": [
    "list=[\"AUN\",\"OPPO\",\"SAMSUNG\",\"NOKIA\"]\n",
    "for a in list:\n",
    "    if isinstance(a, int):\n",
    "        print(\"List Contains Numeric Value\")\n",
    "        break\n",
    "else:\n",
    "    print(\"List don't contain any numeric value try adding numeric value in List\")"
   ]
  },
  {
   "cell_type": "code",
   "execution_count": 22,
   "metadata": {},
   "outputs": [
    {
     "name": "stdout",
     "output_type": "stream",
     "text": [
      "Current Dict is:  {'Name': 'Aun', 'Course': 'Advance Software Engineering'}\n",
      "Updated Dict is:  {'Name': 'Aun', 'Course': 'Advance Software Engineering', 'Department': 'DCS UBIT'}\n"
     ]
    }
   ],
   "source": [
    "Courses = {'Name':'Aun',\n",
    "        'Course':'Advance Software Engineering'\n",
    "       } \n",
    "print(\"Current Dict is: \", Courses) \n",
    "Courses['Department'] = 'DCS UBIT'\n",
    "print(\"Updated Dict is: \", Courses) "
   ]
  },
  {
   "cell_type": "code",
   "execution_count": 35,
   "metadata": {},
   "outputs": [
    {
     "data": {
      "text/plain": [
       "27"
      ]
     },
     "execution_count": 35,
     "metadata": {},
     "output_type": "execute_result"
    }
   ],
   "source": [
    "Numbers = {'First Number':1,\n",
    "     'Second Number':14,\n",
    "     'Third Number':12\n",
    "    }\n",
    "sum(Numbers.values())"
   ]
  },
  {
   "cell_type": "code",
   "execution_count": 43,
   "metadata": {},
   "outputs": [
    {
     "name": "stdout",
     "output_type": "stream",
     "text": [
      "[2, 6]\n"
     ]
    }
   ],
   "source": [
    "from collections import Counter\n",
    "\n",
    "\n",
    "list = [1,2,2,5,6,6,10,7,6,8]\n",
    "a =  Counter(lst)\n",
    "oppo = [k for k, v in a.items() if v > 1]\n",
    "print(oppo)"
   ]
  },
  {
   "cell_type": "code",
   "execution_count": 45,
   "metadata": {},
   "outputs": [
    {
     "name": "stdout",
     "output_type": "stream",
     "text": [
      "Present,  value = 200\n",
      "Not present\n"
     ]
    }
   ],
   "source": [
    "def checkKey(dict, key): \n",
    "      \n",
    "    if key in dict.keys(): \n",
    "        print(\"Present, \", end =\" \") \n",
    "        print(\"value =\", dict[key]) \n",
    "    else: \n",
    "        print(\"Not present\") \n",
    "        \n",
    "dict = {'a': 100, 'b':200, 'c':300} \n",
    "  \n",
    "key = 'b'\n",
    "checkKey(dict, key) \n",
    "  \n",
    "key = 'w'\n",
    "checkKey(dict, key) "
   ]
  },
  {
   "cell_type": "code",
   "execution_count": null,
   "metadata": {},
   "outputs": [],
   "source": []
  }
 ],
 "metadata": {
  "kernelspec": {
   "display_name": "Python 3",
   "language": "python",
   "name": "python3"
  },
  "language_info": {
   "codemirror_mode": {
    "name": "ipython",
    "version": 3
   },
   "file_extension": ".py",
   "mimetype": "text/x-python",
   "name": "python",
   "nbconvert_exporter": "python",
   "pygments_lexer": "ipython3",
   "version": "3.7.4"
  }
 },
 "nbformat": 4,
 "nbformat_minor": 2
}
